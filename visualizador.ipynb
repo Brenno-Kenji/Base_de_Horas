{
 "cells": [
  {
   "cell_type": "code",
   "execution_count": 278,
   "metadata": {},
   "outputs": [],
   "source": [
    "# Importando as blibliotecas;\n",
    "\n",
    "import pandas as pd\n",
    "from datetime import timedelta"
   ]
  },
  {
   "cell_type": "code",
   "execution_count": 279,
   "metadata": {},
   "outputs": [
    {
     "data": {
      "text/html": [
       "<div>\n",
       "<style scoped>\n",
       "    .dataframe tbody tr th:only-of-type {\n",
       "        vertical-align: middle;\n",
       "    }\n",
       "\n",
       "    .dataframe tbody tr th {\n",
       "        vertical-align: top;\n",
       "    }\n",
       "\n",
       "    .dataframe thead th {\n",
       "        text-align: right;\n",
       "    }\n",
       "</style>\n",
       "<table border=\"1\" class=\"dataframe\">\n",
       "  <thead>\n",
       "    <tr style=\"text-align: right;\">\n",
       "      <th></th>\n",
       "      <th>Unnamed: 0</th>\n",
       "      <th>Dia</th>\n",
       "      <th>Hora_Entrada</th>\n",
       "      <th>Hora_Fim</th>\n",
       "    </tr>\n",
       "  </thead>\n",
       "  <tbody>\n",
       "    <tr>\n",
       "      <th>0</th>\n",
       "      <td>0</td>\n",
       "      <td>16/06/2023</td>\n",
       "      <td>07:00</td>\n",
       "      <td>14:00</td>\n",
       "    </tr>\n",
       "    <tr>\n",
       "      <th>1</th>\n",
       "      <td>1</td>\n",
       "      <td>13/02/2023</td>\n",
       "      <td>08:00</td>\n",
       "      <td>15:00</td>\n",
       "    </tr>\n",
       "    <tr>\n",
       "      <th>2</th>\n",
       "      <td>2</td>\n",
       "      <td>14/02/2023</td>\n",
       "      <td>08:00</td>\n",
       "      <td>15:00</td>\n",
       "    </tr>\n",
       "    <tr>\n",
       "      <th>3</th>\n",
       "      <td>3</td>\n",
       "      <td>15/02/2023</td>\n",
       "      <td>08:00</td>\n",
       "      <td>15:00</td>\n",
       "    </tr>\n",
       "    <tr>\n",
       "      <th>4</th>\n",
       "      <td>4</td>\n",
       "      <td>16/02/2023</td>\n",
       "      <td>08:00</td>\n",
       "      <td>15:00</td>\n",
       "    </tr>\n",
       "  </tbody>\n",
       "</table>\n",
       "</div>"
      ],
      "text/plain": [
       "   Unnamed: 0         Dia Hora_Entrada Hora_Fim\n",
       "0           0  16/06/2023        07:00    14:00\n",
       "1           1  13/02/2023        08:00    15:00\n",
       "2           2  14/02/2023        08:00    15:00\n",
       "3           3  15/02/2023        08:00    15:00\n",
       "4           4  16/02/2023        08:00    15:00"
      ]
     },
     "execution_count": 279,
     "metadata": {},
     "output_type": "execute_result"
    }
   ],
   "source": [
    "# Importando o arquivo excel;\n",
    "\n",
    "dataset = pd.read_excel('Dados/Base_Horas.xlsx')\n",
    "dataset.head()"
   ]
  },
  {
   "cell_type": "code",
   "execution_count": 280,
   "metadata": {},
   "outputs": [
    {
     "data": {
      "text/plain": [
       "Unnamed: 0       int64\n",
       "Dia             object\n",
       "Hora_Entrada    object\n",
       "Hora_Fim        object\n",
       "dtype: object"
      ]
     },
     "execution_count": 280,
     "metadata": {},
     "output_type": "execute_result"
    }
   ],
   "source": [
    "# Visualizando os tipos de dados inicias;\n",
    "\n",
    "dataset.dtypes"
   ]
  },
  {
   "cell_type": "code",
   "execution_count": 281,
   "metadata": {},
   "outputs": [],
   "source": [
    "# Alterando os tipos de dados para datetime;\n",
    "\n",
    "dataset['Dia'] = pd.to_datetime(dataset['Dia'], dayfirst = True)\n",
    "\n",
    "dataset['Hora_Entrada'] = dataset['Hora_Entrada'] + ':00'\n",
    "dataset['Hora_Entrada'] = pd.to_timedelta(dataset['Hora_Entrada'])\n",
    "dataset['Hora_Entrada'] = pd.to_datetime(dataset['Dia'] + dataset['Hora_Entrada'])\n",
    "\n",
    "dataset['Hora_Fim'] = dataset['Hora_Fim'] + ':00'\n",
    "dataset['Hora_Fim'] = pd.to_timedelta(dataset['Hora_Fim'])\n",
    "dataset['Hora_Fim'] = pd.to_datetime(dataset['Dia'] + dataset['Hora_Fim'])"
   ]
  },
  {
   "cell_type": "code",
   "execution_count": 282,
   "metadata": {},
   "outputs": [
    {
     "data": {
      "text/plain": [
       "Unnamed: 0               int64\n",
       "Dia             datetime64[ns]\n",
       "Hora_Entrada    datetime64[ns]\n",
       "Hora_Fim        datetime64[ns]\n",
       "dtype: object"
      ]
     },
     "execution_count": 282,
     "metadata": {},
     "output_type": "execute_result"
    }
   ],
   "source": [
    "# Visualizando os tipos de dados após alterações;\n",
    "dataset.dtypes"
   ]
  },
  {
   "cell_type": "code",
   "execution_count": 283,
   "metadata": {},
   "outputs": [
    {
     "data": {
      "text/html": [
       "<div>\n",
       "<style scoped>\n",
       "    .dataframe tbody tr th:only-of-type {\n",
       "        vertical-align: middle;\n",
       "    }\n",
       "\n",
       "    .dataframe tbody tr th {\n",
       "        vertical-align: top;\n",
       "    }\n",
       "\n",
       "    .dataframe thead th {\n",
       "        text-align: right;\n",
       "    }\n",
       "</style>\n",
       "<table border=\"1\" class=\"dataframe\">\n",
       "  <thead>\n",
       "    <tr style=\"text-align: right;\">\n",
       "      <th></th>\n",
       "      <th>Unnamed: 0</th>\n",
       "      <th>Dia</th>\n",
       "      <th>Hora_Entrada</th>\n",
       "      <th>Hora_Fim</th>\n",
       "    </tr>\n",
       "  </thead>\n",
       "  <tbody>\n",
       "    <tr>\n",
       "      <th>0</th>\n",
       "      <td>0</td>\n",
       "      <td>2023-06-16</td>\n",
       "      <td>2023-06-16 07:00:00</td>\n",
       "      <td>2023-06-16 14:00:00</td>\n",
       "    </tr>\n",
       "    <tr>\n",
       "      <th>1</th>\n",
       "      <td>1</td>\n",
       "      <td>2023-02-13</td>\n",
       "      <td>2023-02-13 08:00:00</td>\n",
       "      <td>2023-02-13 15:00:00</td>\n",
       "    </tr>\n",
       "    <tr>\n",
       "      <th>2</th>\n",
       "      <td>2</td>\n",
       "      <td>2023-02-14</td>\n",
       "      <td>2023-02-14 08:00:00</td>\n",
       "      <td>2023-02-14 15:00:00</td>\n",
       "    </tr>\n",
       "    <tr>\n",
       "      <th>3</th>\n",
       "      <td>3</td>\n",
       "      <td>2023-02-15</td>\n",
       "      <td>2023-02-15 08:00:00</td>\n",
       "      <td>2023-02-15 15:00:00</td>\n",
       "    </tr>\n",
       "    <tr>\n",
       "      <th>4</th>\n",
       "      <td>4</td>\n",
       "      <td>2023-02-16</td>\n",
       "      <td>2023-02-16 08:00:00</td>\n",
       "      <td>2023-02-16 15:00:00</td>\n",
       "    </tr>\n",
       "  </tbody>\n",
       "</table>\n",
       "</div>"
      ],
      "text/plain": [
       "   Unnamed: 0        Dia        Hora_Entrada            Hora_Fim\n",
       "0           0 2023-06-16 2023-06-16 07:00:00 2023-06-16 14:00:00\n",
       "1           1 2023-02-13 2023-02-13 08:00:00 2023-02-13 15:00:00\n",
       "2           2 2023-02-14 2023-02-14 08:00:00 2023-02-14 15:00:00\n",
       "3           3 2023-02-15 2023-02-15 08:00:00 2023-02-15 15:00:00\n",
       "4           4 2023-02-16 2023-02-16 08:00:00 2023-02-16 15:00:00"
      ]
     },
     "execution_count": 283,
     "metadata": {},
     "output_type": "execute_result"
    }
   ],
   "source": [
    "dataset.head()"
   ]
  },
  {
   "cell_type": "code",
   "execution_count": 284,
   "metadata": {},
   "outputs": [
    {
     "data": {
      "text/html": [
       "<div>\n",
       "<style scoped>\n",
       "    .dataframe tbody tr th:only-of-type {\n",
       "        vertical-align: middle;\n",
       "    }\n",
       "\n",
       "    .dataframe tbody tr th {\n",
       "        vertical-align: top;\n",
       "    }\n",
       "\n",
       "    .dataframe thead th {\n",
       "        text-align: right;\n",
       "    }\n",
       "</style>\n",
       "<table border=\"1\" class=\"dataframe\">\n",
       "  <thead>\n",
       "    <tr style=\"text-align: right;\">\n",
       "      <th></th>\n",
       "      <th>Unnamed: 0</th>\n",
       "      <th>Dia</th>\n",
       "      <th>Hora_Entrada</th>\n",
       "      <th>Hora_Fim</th>\n",
       "      <th>Horas_Trabalhadas</th>\n",
       "    </tr>\n",
       "  </thead>\n",
       "  <tbody>\n",
       "    <tr>\n",
       "      <th>0</th>\n",
       "      <td>0</td>\n",
       "      <td>2023-06-16</td>\n",
       "      <td>2023-06-16 07:00:00</td>\n",
       "      <td>2023-06-16 14:00:00</td>\n",
       "      <td>2023-06-16 06:00:00</td>\n",
       "    </tr>\n",
       "    <tr>\n",
       "      <th>1</th>\n",
       "      <td>1</td>\n",
       "      <td>2023-02-13</td>\n",
       "      <td>2023-02-13 08:00:00</td>\n",
       "      <td>2023-02-13 15:00:00</td>\n",
       "      <td>2023-02-13 06:00:00</td>\n",
       "    </tr>\n",
       "    <tr>\n",
       "      <th>2</th>\n",
       "      <td>2</td>\n",
       "      <td>2023-02-14</td>\n",
       "      <td>2023-02-14 08:00:00</td>\n",
       "      <td>2023-02-14 15:00:00</td>\n",
       "      <td>2023-02-14 06:00:00</td>\n",
       "    </tr>\n",
       "    <tr>\n",
       "      <th>3</th>\n",
       "      <td>3</td>\n",
       "      <td>2023-02-15</td>\n",
       "      <td>2023-02-15 08:00:00</td>\n",
       "      <td>2023-02-15 15:00:00</td>\n",
       "      <td>2023-02-15 06:00:00</td>\n",
       "    </tr>\n",
       "    <tr>\n",
       "      <th>4</th>\n",
       "      <td>4</td>\n",
       "      <td>2023-02-16</td>\n",
       "      <td>2023-02-16 08:00:00</td>\n",
       "      <td>2023-02-16 15:00:00</td>\n",
       "      <td>2023-02-16 06:00:00</td>\n",
       "    </tr>\n",
       "  </tbody>\n",
       "</table>\n",
       "</div>"
      ],
      "text/plain": [
       "   Unnamed: 0        Dia        Hora_Entrada            Hora_Fim  \\\n",
       "0           0 2023-06-16 2023-06-16 07:00:00 2023-06-16 14:00:00   \n",
       "1           1 2023-02-13 2023-02-13 08:00:00 2023-02-13 15:00:00   \n",
       "2           2 2023-02-14 2023-02-14 08:00:00 2023-02-14 15:00:00   \n",
       "3           3 2023-02-15 2023-02-15 08:00:00 2023-02-15 15:00:00   \n",
       "4           4 2023-02-16 2023-02-16 08:00:00 2023-02-16 15:00:00   \n",
       "\n",
       "    Horas_Trabalhadas  \n",
       "0 2023-06-16 06:00:00  \n",
       "1 2023-02-13 06:00:00  \n",
       "2 2023-02-14 06:00:00  \n",
       "3 2023-02-15 06:00:00  \n",
       "4 2023-02-16 06:00:00  "
      ]
     },
     "execution_count": 284,
     "metadata": {},
     "output_type": "execute_result"
    }
   ],
   "source": [
    "lunch_time = 1\n",
    "\n",
    "dataset['Horas_Trabalhadas'] = (dataset['Hora_Fim'] - dataset['Hora_Entrada']) - timedelta(hours = lunch_time)\n",
    "\n",
    "dataset['Horas_Trabalhadas'] = dataset['Horas_Trabalhadas'] = pd.to_datetime(dataset['Dia'] + dataset['Horas_Trabalhadas'])\n",
    "\n",
    "dataset.head()"
   ]
  },
  {
   "cell_type": "code",
   "execution_count": 285,
   "metadata": {},
   "outputs": [],
   "source": [
    "# Retirando as colunas que não são necessárias no Dataframe\n",
    "\n",
    "dataset.drop(['Unnamed: 0'], inplace = True, axis = 1)"
   ]
  },
  {
   "cell_type": "code",
   "execution_count": 286,
   "metadata": {},
   "outputs": [
    {
     "data": {
      "text/html": [
       "<div>\n",
       "<style scoped>\n",
       "    .dataframe tbody tr th:only-of-type {\n",
       "        vertical-align: middle;\n",
       "    }\n",
       "\n",
       "    .dataframe tbody tr th {\n",
       "        vertical-align: top;\n",
       "    }\n",
       "\n",
       "    .dataframe thead th {\n",
       "        text-align: right;\n",
       "    }\n",
       "</style>\n",
       "<table border=\"1\" class=\"dataframe\">\n",
       "  <thead>\n",
       "    <tr style=\"text-align: right;\">\n",
       "      <th></th>\n",
       "      <th>Dia</th>\n",
       "      <th>Hora_Entrada</th>\n",
       "      <th>Hora_Fim</th>\n",
       "      <th>Horas_Trabalhadas</th>\n",
       "    </tr>\n",
       "  </thead>\n",
       "  <tbody>\n",
       "    <tr>\n",
       "      <th>1</th>\n",
       "      <td>2023-02-13</td>\n",
       "      <td>08:00</td>\n",
       "      <td>15:00</td>\n",
       "      <td>06:00</td>\n",
       "    </tr>\n",
       "    <tr>\n",
       "      <th>2</th>\n",
       "      <td>2023-02-14</td>\n",
       "      <td>08:00</td>\n",
       "      <td>15:00</td>\n",
       "      <td>06:00</td>\n",
       "    </tr>\n",
       "    <tr>\n",
       "      <th>3</th>\n",
       "      <td>2023-02-15</td>\n",
       "      <td>08:00</td>\n",
       "      <td>15:00</td>\n",
       "      <td>06:00</td>\n",
       "    </tr>\n",
       "    <tr>\n",
       "      <th>4</th>\n",
       "      <td>2023-02-16</td>\n",
       "      <td>08:00</td>\n",
       "      <td>15:00</td>\n",
       "      <td>06:00</td>\n",
       "    </tr>\n",
       "    <tr>\n",
       "      <th>5</th>\n",
       "      <td>2023-02-17</td>\n",
       "      <td>08:00</td>\n",
       "      <td>15:00</td>\n",
       "      <td>06:00</td>\n",
       "    </tr>\n",
       "  </tbody>\n",
       "</table>\n",
       "</div>"
      ],
      "text/plain": [
       "         Dia Hora_Entrada Hora_Fim Horas_Trabalhadas\n",
       "1 2023-02-13        08:00    15:00             06:00\n",
       "2 2023-02-14        08:00    15:00             06:00\n",
       "3 2023-02-15        08:00    15:00             06:00\n",
       "4 2023-02-16        08:00    15:00             06:00\n",
       "5 2023-02-17        08:00    15:00             06:00"
      ]
     },
     "execution_count": 286,
     "metadata": {},
     "output_type": "execute_result"
    }
   ],
   "source": [
    "# Formatando a tabela para visualização final\n",
    "\n",
    "dataset['Hora_Entrada'] = dataset['Hora_Entrada'].dt.strftime('%H:%M')\n",
    "dataset['Hora_Fim'] = dataset['Hora_Fim'].dt.strftime('%H:%M')\n",
    "dataset['Horas_Trabalhadas'] = dataset['Horas_Trabalhadas'].dt.strftime('%H:%M')\n",
    "\n",
    "dataset = dataset.sort_values(by = 'Dia')\n",
    "\n",
    "dataset.head()"
   ]
  },
  {
   "cell_type": "code",
   "execution_count": 287,
   "metadata": {},
   "outputs": [],
   "source": [
    "dataset.to_excel('Dados/Base_Horas_Formatada.xlsx')"
   ]
  }
 ],
 "metadata": {
  "kernelspec": {
   "display_name": "Python 3",
   "language": "python",
   "name": "python3"
  },
  "language_info": {
   "codemirror_mode": {
    "name": "ipython",
    "version": 3
   },
   "file_extension": ".py",
   "mimetype": "text/x-python",
   "name": "python",
   "nbconvert_exporter": "python",
   "pygments_lexer": "ipython3",
   "version": "3.10.6"
  },
  "orig_nbformat": 4
 },
 "nbformat": 4,
 "nbformat_minor": 2
}
